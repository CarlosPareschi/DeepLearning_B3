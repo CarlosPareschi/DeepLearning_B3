{
  "cells": [
    {
      "cell_type": "code",
      "execution_count": 1,
      "id": "8f7b8af9-66f8-4a54-8fb9-1c40024aa000",
      "metadata": {
        "colab": {
          "base_uri": "https://localhost:8080/"
        },
        "id": "8f7b8af9-66f8-4a54-8fb9-1c40024aa000",
        "outputId": "afee672f-379c-47f5-89ec-2a3fd3305de9"
      },
      "outputs": [
        {
          "output_type": "stream",
          "name": "stdout",
          "text": [
            "Requirement already satisfied: tensorflow in /usr/local/lib/python3.10/dist-packages (2.15.0)\n",
            "Requirement already satisfied: seaborn in /usr/local/lib/python3.10/dist-packages (0.13.1)\n",
            "Requirement already satisfied: matplotlib in /usr/local/lib/python3.10/dist-packages (3.7.1)\n",
            "Requirement already satisfied: absl-py>=1.0.0 in /usr/local/lib/python3.10/dist-packages (from tensorflow) (1.4.0)\n",
            "Requirement already satisfied: astunparse>=1.6.0 in /usr/local/lib/python3.10/dist-packages (from tensorflow) (1.6.3)\n",
            "Requirement already satisfied: flatbuffers>=23.5.26 in /usr/local/lib/python3.10/dist-packages (from tensorflow) (24.3.25)\n",
            "Requirement already satisfied: gast!=0.5.0,!=0.5.1,!=0.5.2,>=0.2.1 in /usr/local/lib/python3.10/dist-packages (from tensorflow) (0.5.4)\n",
            "Requirement already satisfied: google-pasta>=0.1.1 in /usr/local/lib/python3.10/dist-packages (from tensorflow) (0.2.0)\n",
            "Requirement already satisfied: h5py>=2.9.0 in /usr/local/lib/python3.10/dist-packages (from tensorflow) (3.9.0)\n",
            "Requirement already satisfied: libclang>=13.0.0 in /usr/local/lib/python3.10/dist-packages (from tensorflow) (18.1.1)\n",
            "Requirement already satisfied: ml-dtypes~=0.2.0 in /usr/local/lib/python3.10/dist-packages (from tensorflow) (0.2.0)\n",
            "Requirement already satisfied: numpy<2.0.0,>=1.23.5 in /usr/local/lib/python3.10/dist-packages (from tensorflow) (1.25.2)\n",
            "Requirement already satisfied: opt-einsum>=2.3.2 in /usr/local/lib/python3.10/dist-packages (from tensorflow) (3.3.0)\n",
            "Requirement already satisfied: packaging in /usr/local/lib/python3.10/dist-packages (from tensorflow) (24.0)\n",
            "Requirement already satisfied: protobuf!=4.21.0,!=4.21.1,!=4.21.2,!=4.21.3,!=4.21.4,!=4.21.5,<5.0.0dev,>=3.20.3 in /usr/local/lib/python3.10/dist-packages (from tensorflow) (3.20.3)\n",
            "Requirement already satisfied: setuptools in /usr/local/lib/python3.10/dist-packages (from tensorflow) (67.7.2)\n",
            "Requirement already satisfied: six>=1.12.0 in /usr/local/lib/python3.10/dist-packages (from tensorflow) (1.16.0)\n",
            "Requirement already satisfied: termcolor>=1.1.0 in /usr/local/lib/python3.10/dist-packages (from tensorflow) (2.4.0)\n",
            "Requirement already satisfied: typing-extensions>=3.6.6 in /usr/local/lib/python3.10/dist-packages (from tensorflow) (4.11.0)\n",
            "Requirement already satisfied: wrapt<1.15,>=1.11.0 in /usr/local/lib/python3.10/dist-packages (from tensorflow) (1.14.1)\n",
            "Requirement already satisfied: tensorflow-io-gcs-filesystem>=0.23.1 in /usr/local/lib/python3.10/dist-packages (from tensorflow) (0.36.0)\n",
            "Requirement already satisfied: grpcio<2.0,>=1.24.3 in /usr/local/lib/python3.10/dist-packages (from tensorflow) (1.62.2)\n",
            "Requirement already satisfied: tensorboard<2.16,>=2.15 in /usr/local/lib/python3.10/dist-packages (from tensorflow) (2.15.2)\n",
            "Requirement already satisfied: tensorflow-estimator<2.16,>=2.15.0 in /usr/local/lib/python3.10/dist-packages (from tensorflow) (2.15.0)\n",
            "Requirement already satisfied: keras<2.16,>=2.15.0 in /usr/local/lib/python3.10/dist-packages (from tensorflow) (2.15.0)\n",
            "Requirement already satisfied: pandas>=1.2 in /usr/local/lib/python3.10/dist-packages (from seaborn) (2.0.3)\n",
            "Requirement already satisfied: contourpy>=1.0.1 in /usr/local/lib/python3.10/dist-packages (from matplotlib) (1.2.1)\n",
            "Requirement already satisfied: cycler>=0.10 in /usr/local/lib/python3.10/dist-packages (from matplotlib) (0.12.1)\n",
            "Requirement already satisfied: fonttools>=4.22.0 in /usr/local/lib/python3.10/dist-packages (from matplotlib) (4.51.0)\n",
            "Requirement already satisfied: kiwisolver>=1.0.1 in /usr/local/lib/python3.10/dist-packages (from matplotlib) (1.4.5)\n",
            "Requirement already satisfied: pillow>=6.2.0 in /usr/local/lib/python3.10/dist-packages (from matplotlib) (9.4.0)\n",
            "Requirement already satisfied: pyparsing>=2.3.1 in /usr/local/lib/python3.10/dist-packages (from matplotlib) (3.1.2)\n",
            "Requirement already satisfied: python-dateutil>=2.7 in /usr/local/lib/python3.10/dist-packages (from matplotlib) (2.8.2)\n",
            "Requirement already satisfied: wheel<1.0,>=0.23.0 in /usr/local/lib/python3.10/dist-packages (from astunparse>=1.6.0->tensorflow) (0.43.0)\n",
            "Requirement already satisfied: pytz>=2020.1 in /usr/local/lib/python3.10/dist-packages (from pandas>=1.2->seaborn) (2023.4)\n",
            "Requirement already satisfied: tzdata>=2022.1 in /usr/local/lib/python3.10/dist-packages (from pandas>=1.2->seaborn) (2024.1)\n",
            "Requirement already satisfied: google-auth<3,>=1.6.3 in /usr/local/lib/python3.10/dist-packages (from tensorboard<2.16,>=2.15->tensorflow) (2.27.0)\n",
            "Requirement already satisfied: google-auth-oauthlib<2,>=0.5 in /usr/local/lib/python3.10/dist-packages (from tensorboard<2.16,>=2.15->tensorflow) (1.2.0)\n",
            "Requirement already satisfied: markdown>=2.6.8 in /usr/local/lib/python3.10/dist-packages (from tensorboard<2.16,>=2.15->tensorflow) (3.6)\n",
            "Requirement already satisfied: requests<3,>=2.21.0 in /usr/local/lib/python3.10/dist-packages (from tensorboard<2.16,>=2.15->tensorflow) (2.31.0)\n",
            "Requirement already satisfied: tensorboard-data-server<0.8.0,>=0.7.0 in /usr/local/lib/python3.10/dist-packages (from tensorboard<2.16,>=2.15->tensorflow) (0.7.2)\n",
            "Requirement already satisfied: werkzeug>=1.0.1 in /usr/local/lib/python3.10/dist-packages (from tensorboard<2.16,>=2.15->tensorflow) (3.0.2)\n",
            "Requirement already satisfied: cachetools<6.0,>=2.0.0 in /usr/local/lib/python3.10/dist-packages (from google-auth<3,>=1.6.3->tensorboard<2.16,>=2.15->tensorflow) (5.3.3)\n",
            "Requirement already satisfied: pyasn1-modules>=0.2.1 in /usr/local/lib/python3.10/dist-packages (from google-auth<3,>=1.6.3->tensorboard<2.16,>=2.15->tensorflow) (0.4.0)\n",
            "Requirement already satisfied: rsa<5,>=3.1.4 in /usr/local/lib/python3.10/dist-packages (from google-auth<3,>=1.6.3->tensorboard<2.16,>=2.15->tensorflow) (4.9)\n",
            "Requirement already satisfied: requests-oauthlib>=0.7.0 in /usr/local/lib/python3.10/dist-packages (from google-auth-oauthlib<2,>=0.5->tensorboard<2.16,>=2.15->tensorflow) (1.3.1)\n",
            "Requirement already satisfied: charset-normalizer<4,>=2 in /usr/local/lib/python3.10/dist-packages (from requests<3,>=2.21.0->tensorboard<2.16,>=2.15->tensorflow) (3.3.2)\n",
            "Requirement already satisfied: idna<4,>=2.5 in /usr/local/lib/python3.10/dist-packages (from requests<3,>=2.21.0->tensorboard<2.16,>=2.15->tensorflow) (3.7)\n",
            "Requirement already satisfied: urllib3<3,>=1.21.1 in /usr/local/lib/python3.10/dist-packages (from requests<3,>=2.21.0->tensorboard<2.16,>=2.15->tensorflow) (2.0.7)\n",
            "Requirement already satisfied: certifi>=2017.4.17 in /usr/local/lib/python3.10/dist-packages (from requests<3,>=2.21.0->tensorboard<2.16,>=2.15->tensorflow) (2024.2.2)\n",
            "Requirement already satisfied: MarkupSafe>=2.1.1 in /usr/local/lib/python3.10/dist-packages (from werkzeug>=1.0.1->tensorboard<2.16,>=2.15->tensorflow) (2.1.5)\n",
            "Requirement already satisfied: pyasn1<0.7.0,>=0.4.6 in /usr/local/lib/python3.10/dist-packages (from pyasn1-modules>=0.2.1->google-auth<3,>=1.6.3->tensorboard<2.16,>=2.15->tensorflow) (0.6.0)\n",
            "Requirement already satisfied: oauthlib>=3.0.0 in /usr/local/lib/python3.10/dist-packages (from requests-oauthlib>=0.7.0->google-auth-oauthlib<2,>=0.5->tensorboard<2.16,>=2.15->tensorflow) (3.2.2)\n"
          ]
        }
      ],
      "source": [
        "!pip install tensorflow seaborn matplotlib"
      ]
    },
    {
      "cell_type": "code",
      "source": [
        "from google.colab import drive\n",
        "drive.mount('/content/drive')"
      ],
      "metadata": {
        "colab": {
          "base_uri": "https://localhost:8080/"
        },
        "id": "2gt5d3zKHZni",
        "outputId": "aefb002b-3dc9-4d29-d467-a28a276399fb"
      },
      "id": "2gt5d3zKHZni",
      "execution_count": 2,
      "outputs": [
        {
          "output_type": "stream",
          "name": "stdout",
          "text": [
            "Mounted at /content/drive\n"
          ]
        }
      ]
    },
    {
      "cell_type": "code",
      "execution_count": 3,
      "id": "07b14143-2961-4dfb-808a-7c48859b2e2a",
      "metadata": {
        "id": "07b14143-2961-4dfb-808a-7c48859b2e2a"
      },
      "outputs": [],
      "source": [
        "import os\n",
        "import numpy as np\n",
        "import tensorflow as tf\n",
        "import seaborn as sns\n",
        "import matplotlib.pyplot as plt\n",
        "from tensorflow.keras.models import Sequential\n",
        "from tensorflow.keras.layers import Conv2D, MaxPooling2D, Flatten, Dense\n",
        "from sklearn.metrics import confusion_matrix, precision_score, recall_score"
      ]
    },
    {
      "cell_type": "code",
      "source": [
        "# Definir o seed para o TensorFlow\n",
        "tf.random.set_seed(42)\n",
        "\n",
        "# Definir o seed para o NumPy\n",
        "np.random.seed(42)"
      ],
      "metadata": {
        "id": "CCCV9D9ZVmiJ"
      },
      "id": "CCCV9D9ZVmiJ",
      "execution_count": 4,
      "outputs": []
    },
    {
      "cell_type": "code",
      "execution_count": 5,
      "id": "27c4d3fb-3b9f-4116-9475-59c07ede0b50",
      "metadata": {
        "id": "27c4d3fb-3b9f-4116-9475-59c07ede0b50"
      },
      "outputs": [],
      "source": [
        "def load_images_and_labels(images_dir, label):\n",
        "    images = []\n",
        "    labels = []\n",
        "    for filename in os.listdir(images_dir):\n",
        "        if filename.endswith('.png'):\n",
        "            img = plt.imread(os.path.join(images_dir, filename))\n",
        "            images.append(img)\n",
        "            labels.append(label)\n",
        "    return np.array(images), np.array(labels)"
      ]
    },
    {
      "cell_type": "code",
      "execution_count": 6,
      "id": "1ba6d4ad-efe3-4106-9636-78bbbc083322",
      "metadata": {
        "id": "1ba6d4ad-efe3-4106-9636-78bbbc083322"
      },
      "outputs": [],
      "source": [
        "stocks = ['BBAS3.SA','CSNA3.SA', 'PETR4.SA', 'VALE3.SA']"
      ]
    },
    {
      "cell_type": "code",
      "execution_count": 7,
      "id": "30ac0ab3-ce26-414f-a231-e9cc0a0802f4",
      "metadata": {
        "colab": {
          "base_uri": "https://localhost:8080/"
        },
        "id": "30ac0ab3-ce26-414f-a231-e9cc0a0802f4",
        "outputId": "826c1b7e-8297-4d24-c3bd-841ec8b06614"
      },
      "outputs": [
        {
          "output_type": "stream",
          "name": "stdout",
          "text": [
            "Treino Imagens Shape: (4808, 333, 100)\n",
            "Treino Rotulos Shape: (4808,)\n",
            "Teste Imagens Shape: (1203, 333, 100)\n",
            "Teste Rotulos Shape: (1203,)\n"
          ]
        }
      ],
      "source": [
        "test_sell_images_dir = f'/content/drive/MyDrive/FIAP_PI/{stocks[3]}/imagens/teste/vender/'\n",
        "train_sell_images_dir = f'/content/drive/MyDrive/FIAP_PI/{stocks[3]}/imagens/treino/vender/'\n",
        "\n",
        "test_buy_images_dir = f'/content/drive/MyDrive/FIAP_PI/{stocks[3]}/imagens/teste/comprar/'\n",
        "train_buy_images_dir = f'/content/drive/MyDrive/FIAP_PI/{stocks[3]}/imagens/treino/comprar/'\n",
        "\n",
        "\n",
        "train_buy_images, train_buy_labels = load_images_and_labels(train_buy_images_dir, label=1)\n",
        "train_sell_images, train_sell_labels = load_images_and_labels(train_sell_images_dir, label=0)\n",
        "\n",
        "test_buy_images, test_buy_labels = load_images_and_labels(test_buy_images_dir, label=1)\n",
        "test_sell_images, test_sell_labels = load_images_and_labels(test_sell_images_dir, label=0)\n",
        "\n",
        "train_images = np.concatenate([train_buy_images, train_sell_images], axis=0)\n",
        "train_labels = np.concatenate([train_buy_labels, train_sell_labels], axis=0)\n",
        "\n",
        "test_images = np.concatenate([test_buy_images, test_sell_images], axis=0)\n",
        "test_labels = np.concatenate([test_buy_labels, test_sell_labels], axis=0)\n",
        "\n",
        "train_images = train_images / 255.0\n",
        "test_images = test_images / 255.0\n",
        "\n",
        "print('Treino Imagens Shape:', train_images.shape)\n",
        "print('Treino Rotulos Shape:', train_labels.shape)\n",
        "print('Teste Imagens Shape:', test_images.shape)\n",
        "print('Teste Rotulos Shape:', test_labels.shape)\n"
      ]
    },
    {
      "cell_type": "code",
      "execution_count": 8,
      "id": "4a1ba75c-14a4-49c9-bda2-80aab8a53e2f",
      "metadata": {
        "colab": {
          "base_uri": "https://localhost:8080/"
        },
        "id": "4a1ba75c-14a4-49c9-bda2-80aab8a53e2f",
        "outputId": "c4c71bab-a987-48c5-f926-6de837a4b0e5"
      },
      "outputs": [
        {
          "output_type": "stream",
          "name": "stdout",
          "text": [
            "(333, 100, 1)\n"
          ]
        }
      ],
      "source": [
        "train_images = train_images.reshape(-1, 333, 100, 1)\n",
        "test_images = test_images.reshape(-1, 333, 100, 1)\n",
        "\n",
        "print(np.shape(train_images[3]))\n"
      ]
    },
    {
      "cell_type": "code",
      "execution_count": 9,
      "id": "a29d4ea9-5d99-4ade-86cc-30fef6d5acd1",
      "metadata": {
        "colab": {
          "base_uri": "https://localhost:8080/"
        },
        "id": "a29d4ea9-5d99-4ade-86cc-30fef6d5acd1",
        "outputId": "2b66dec4-f71d-4a6e-8f09-667e3b09b317"
      },
      "outputs": [
        {
          "output_type": "stream",
          "name": "stdout",
          "text": [
            "Model: \"model\"\n",
            "__________________________________________________________________________________________________\n",
            " Layer (type)                Output Shape                 Param #   Connected to                  \n",
            "==================================================================================================\n",
            " input_1 (InputLayer)        [(None, 333, 100, 1)]        0         []                            \n",
            "                                                                                                  \n",
            " max_pooling2d (MaxPooling2  (None, 333, 100, 1)          0         ['input_1[0][0]']             \n",
            " D)                                                                                               \n",
            "                                                                                                  \n",
            " conv2d (Conv2D)             (None, 333, 100, 64)         128       ['input_1[0][0]']             \n",
            "                                                                                                  \n",
            " conv2d_1 (Conv2D)           (None, 333, 100, 128)        1280      ['input_1[0][0]']             \n",
            "                                                                                                  \n",
            " conv2d_2 (Conv2D)           (None, 333, 100, 32)         832       ['input_1[0][0]']             \n",
            "                                                                                                  \n",
            " conv2d_3 (Conv2D)           (None, 333, 100, 32)         64        ['max_pooling2d[0][0]']       \n",
            "                                                                                                  \n",
            " concatenate (Concatenate)   (None, 333, 100, 256)        0         ['conv2d[0][0]',              \n",
            "                                                                     'conv2d_1[0][0]',            \n",
            "                                                                     'conv2d_2[0][0]',            \n",
            "                                                                     'conv2d_3[0][0]']            \n",
            "                                                                                                  \n",
            " max_pooling2d_1 (MaxPoolin  (None, 166, 50, 256)         0         ['concatenate[0][0]']         \n",
            " g2D)                                                                                             \n",
            "                                                                                                  \n",
            " max_pooling2d_2 (MaxPoolin  (None, 166, 50, 256)         0         ['max_pooling2d_1[0][0]']     \n",
            " g2D)                                                                                             \n",
            "                                                                                                  \n",
            " conv2d_4 (Conv2D)           (None, 166, 50, 128)         32896     ['max_pooling2d_1[0][0]']     \n",
            "                                                                                                  \n",
            " conv2d_5 (Conv2D)           (None, 166, 50, 256)         590080    ['max_pooling2d_1[0][0]']     \n",
            "                                                                                                  \n",
            " conv2d_6 (Conv2D)           (None, 166, 50, 64)          409664    ['max_pooling2d_1[0][0]']     \n",
            "                                                                                                  \n",
            " conv2d_7 (Conv2D)           (None, 166, 50, 64)          16448     ['max_pooling2d_2[0][0]']     \n",
            "                                                                                                  \n",
            " concatenate_1 (Concatenate  (None, 166, 50, 512)         0         ['conv2d_4[0][0]',            \n",
            " )                                                                   'conv2d_5[0][0]',            \n",
            "                                                                     'conv2d_6[0][0]',            \n",
            "                                                                     'conv2d_7[0][0]']            \n",
            "                                                                                                  \n",
            " max_pooling2d_3 (MaxPoolin  (None, 83, 25, 512)          0         ['concatenate_1[0][0]']       \n",
            " g2D)                                                                                             \n",
            "                                                                                                  \n",
            " flatten (Flatten)           (None, 1062400)              0         ['max_pooling2d_3[0][0]']     \n",
            "                                                                                                  \n",
            " dense (Dense)               (None, 128)                  1359873   ['flatten[0][0]']             \n",
            "                                                          28                                      \n",
            "                                                                                                  \n",
            " dropout (Dropout)           (None, 128)                  0         ['dense[0][0]']               \n",
            "                                                                                                  \n",
            " dense_1 (Dense)             (None, 1)                    129       ['dropout[0][0]']             \n",
            "                                                                                                  \n",
            "==================================================================================================\n",
            "Total params: 137038849 (522.76 MB)\n",
            "Trainable params: 137038849 (522.76 MB)\n",
            "Non-trainable params: 0 (0.00 Byte)\n",
            "__________________________________________________________________________________________________\n",
            "Epoch 1/10\n",
            "121/121 [==============================] - 66s 381ms/step - loss: 0.6750 - accuracy: 0.5671 - val_loss: 0.5732 - val_accuracy: 0.7370\n",
            "Epoch 2/10\n",
            "121/121 [==============================] - 42s 349ms/step - loss: 0.3688 - accuracy: 0.8515 - val_loss: 0.3867 - val_accuracy: 0.8389\n",
            "Epoch 3/10\n",
            "121/121 [==============================] - 45s 368ms/step - loss: 0.2996 - accuracy: 0.8892 - val_loss: 0.3545 - val_accuracy: 0.8472\n",
            "Epoch 4/10\n",
            "121/121 [==============================] - 45s 368ms/step - loss: 0.2887 - accuracy: 0.8903 - val_loss: 0.3128 - val_accuracy: 0.8617\n",
            "Epoch 5/10\n",
            "121/121 [==============================] - 45s 369ms/step - loss: 0.2787 - accuracy: 0.8898 - val_loss: 0.2695 - val_accuracy: 0.8742\n",
            "Epoch 6/10\n",
            "121/121 [==============================] - 43s 352ms/step - loss: 0.2696 - accuracy: 0.8952 - val_loss: 0.4185 - val_accuracy: 0.8202\n",
            "Epoch 7/10\n",
            "121/121 [==============================] - 45s 370ms/step - loss: 0.2645 - accuracy: 0.8947 - val_loss: 0.3472 - val_accuracy: 0.8254\n",
            "Epoch 8/10\n",
            "121/121 [==============================] - 45s 370ms/step - loss: 0.2683 - accuracy: 0.8981 - val_loss: 0.3403 - val_accuracy: 0.8514\n",
            "Epoch 9/10\n",
            "121/121 [==============================] - 43s 353ms/step - loss: 0.2692 - accuracy: 0.8882 - val_loss: 0.2911 - val_accuracy: 0.8565\n",
            "Epoch 10/10\n",
            "121/121 [==============================] - 43s 353ms/step - loss: 0.2557 - accuracy: 0.8944 - val_loss: 0.3032 - val_accuracy: 0.8545\n"
          ]
        },
        {
          "output_type": "execute_result",
          "data": {
            "text/plain": [
              "<keras.src.callbacks.History at 0x78e87f2ee500>"
            ]
          },
          "metadata": {},
          "execution_count": 9
        }
      ],
      "source": [
        "#Este código adiciona uma arquitetura Inception ao modelo existente, que é uma rede neural convolucional (CNN) para classificação binária de imagens.\n",
        "\n",
        "from tensorflow.keras.models import Sequential\n",
        "from tensorflow.keras.layers import Conv2D, MaxPooling2D, Flatten, Dense, Input, concatenate, Dropout\n",
        "from tensorflow.keras.models import Model\n",
        "\n",
        "def inception_module(input_layer, filters):\n",
        "    conv1x1 = Conv2D(filters=filters[0], kernel_size=(1, 1), padding='same', activation='relu')(input_layer)\n",
        "    conv3x3 = Conv2D(filters=filters[1], kernel_size=(3, 3), padding='same', activation='relu')(input_layer)\n",
        "    conv5x5 = Conv2D(filters=filters[2], kernel_size=(5, 5), padding='same', activation='relu')(input_layer)\n",
        "    maxpool = MaxPooling2D(pool_size=(3, 3), strides=(1, 1), padding='same')(input_layer)\n",
        "    maxpool_conv1x1 = Conv2D(filters=filters[3], kernel_size=(1, 1), padding='same', activation='relu')(maxpool)\n",
        "\n",
        "    output_layer = concatenate([conv1x1, conv3x3, conv5x5, maxpool_conv1x1], axis=-1)\n",
        "    return output_layer\n",
        "\n",
        "input_layer = Input(shape=train_images.shape[1:])\n",
        "inception1 = inception_module(input_layer, filters=[64, 128, 32, 32])\n",
        "maxpool1 = MaxPooling2D(pool_size=(2, 2))(inception1)\n",
        "inception2 = inception_module(maxpool1, filters=[128, 256, 64, 64])\n",
        "maxpool2 = MaxPooling2D(pool_size=(2, 2))(inception2)\n",
        "flatten = Flatten()(maxpool2)\n",
        "dense1 = Dense(128, activation='relu')(flatten)\n",
        "dropout1 = Dropout(0.5)(dense1)  # Adicionando Dropout com taxa de 0.5\n",
        "output_layer = Dense(1, activation='sigmoid')(dropout1)\n",
        "\n",
        "model = Model(inputs=input_layer, outputs=output_layer)\n",
        "\n",
        "model.compile(optimizer='adam', loss='binary_crossentropy', metrics=['accuracy'])\n",
        "\n",
        "model.summary()\n",
        "\n",
        "model.fit(train_images, train_labels, epochs=10, batch_size=32, validation_split=0.2)"
      ]
    },
    {
      "cell_type": "code",
      "execution_count": 10,
      "id": "8dde0a0b",
      "metadata": {
        "colab": {
          "base_uri": "https://localhost:8080/"
        },
        "id": "8dde0a0b",
        "outputId": "c3990172-9d76-490f-ffa6-327fc66ac6d2"
      },
      "outputs": [
        {
          "output_type": "stream",
          "name": "stderr",
          "text": [
            "/usr/local/lib/python3.10/dist-packages/keras/src/engine/training.py:3103: UserWarning: You are saving your model as an HDF5 file via `model.save()`. This file format is considered legacy. We recommend using instead the native Keras format, e.g. `model.save('my_model.keras')`.\n",
            "  saving_api.save_model(\n"
          ]
        }
      ],
      "source": [
        "# Salvar o modelo\n",
        "model.save('/content/drive/MyDrive/modelo_de_compra_e_venda_vale3.h5')"
      ]
    },
    {
      "cell_type": "code",
      "source": [
        "from tensorflow.keras.models import load_model\n",
        "# Carregar o modelo treinado\n",
        "model = load_model('/content/drive/MyDrive/modelo_de_compra_e_venda_vale3.h5')"
      ],
      "metadata": {
        "id": "Z1IqB6U5N9c-"
      },
      "id": "Z1IqB6U5N9c-",
      "execution_count": 11,
      "outputs": []
    },
    {
      "cell_type": "code",
      "execution_count": 12,
      "id": "189ab2f6-e6a8-4e44-bd17-b7629ba5ee9b",
      "metadata": {
        "colab": {
          "base_uri": "https://localhost:8080/",
          "height": 675
        },
        "id": "189ab2f6-e6a8-4e44-bd17-b7629ba5ee9b",
        "outputId": "a6cb1ff6-34bd-4b13-8603-09df5655eea6"
      },
      "outputs": [
        {
          "output_type": "stream",
          "name": "stdout",
          "text": [
            "38/38 [==============================] - 7s 166ms/step - loss: 0.2650 - accuracy: 0.8820\n",
            "Test Accuracy VALE3.SA: 0.8819617629051208\n",
            "38/38 [==============================] - 4s 98ms/step\n"
          ]
        },
        {
          "output_type": "display_data",
          "data": {
            "text/plain": [
              "<Figure size 800x600 with 2 Axes>"
            ],
            "image/png": "[encoded data removed]"
          },
          "metadata": {}
        },
        {
          "output_type": "stream",
          "name": "stdout",
          "text": [
            "Acurácia VALE3.SA:  0.8819617629051208\n",
            "Precisão VALE3.SA:  0.872168284789644\n",
            "Recall VALE3.SA:  0.8953488372093024\n"
          ]
        }
      ],
      "source": [
        "# Avaliar o modelo com os dados de teste\n",
        "test_loss, test_accuracy = model.evaluate(test_images, test_labels)\n",
        "print(f'Test Accuracy {stocks[3]}:', test_accuracy)\n",
        "\n",
        "predictions = model.predict(test_images)\n",
        "\n",
        "predicted_labels = np.round(predictions).flatten()\n",
        "true_labels = test_labels.flatten()\n",
        "\n",
        "conf_matrix = confusion_matrix(true_labels, predicted_labels)\n",
        "class_names = ['Vender (-1)', 'Comprar (1)']\n",
        "\n",
        "plt.figure(figsize=(8, 6))\n",
        "sns.heatmap(conf_matrix, annot=True, fmt='d', cmap='Blues', xticklabels=class_names, yticklabels=class_names)\n",
        "plt.xlabel('Predicted Label')\n",
        "plt.ylabel('True Label')\n",
        "plt.title(f'Matriz de Confusão da {stocks[3]} - Acurácia: {test_accuracy:.2f}')\n",
        "plt.show()\n",
        "\n",
        "precision = precision_score(true_labels, predicted_labels)\n",
        "recall = recall_score(true_labels, predicted_labels)\n",
        "\n",
        "print(f'Acurácia {stocks[3]}: ', test_accuracy)\n",
        "print(f'Precisão {stocks[3]}: ', precision)\n",
        "print(f'Recall {stocks[3]}: ', recall)\n"
      ]
    },
    {
      "cell_type": "code",
      "execution_count": 12,
      "id": "d1869edf-bced-479b-b0f9-94d1e84a73d7",
      "metadata": {
        "id": "d1869edf-bced-479b-b0f9-94d1e84a73d7"
      },
      "outputs": [],
      "source": []
    }
  ],
  "metadata": {
    "kernelspec": {
      "display_name": "Python 3",
      "name": "python3"
    },
    "language_info": {
      "codemirror_mode": {
        "name": "ipython",
        "version": 3
      },
      "file_extension": ".py",
      "mimetype": "text/x-python",
      "name": "python",
      "nbconvert_exporter": "python",
      "pygments_lexer": "ipython3",
      "version": "3.11.4"
    },
    "colab": {
      "provenance": [],
      "gpuType": "T4"
    },
    "accelerator": "GPU"
  },
  "nbformat": 4,
  "nbformat_minor": 5
}